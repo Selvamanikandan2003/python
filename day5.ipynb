{
 "cells": [
  {
   "cell_type": "code",
   "execution_count": 3,
   "id": "295f7132-04a5-471a-9dac-6e2c744fec07",
   "metadata": {},
   "outputs": [
    {
     "name": "stdout",
     "output_type": "stream",
     "text": [
      "True\n",
      "False\n"
     ]
    }
   ],
   "source": [
    "#OPERATORS\n",
    "#IDENTITY\n",
    "#is\n",
    "x=\"apple\"\n",
    "y=\"apple\"\n",
    "z=x\n",
    "print(x is z)\n",
    "#is not\n",
    "print(x is not z)"
   ]
  },
  {
   "cell_type": "code",
   "execution_count": 5,
   "id": "1a703e74-0080-45c6-b8fb-9a55ae4606ca",
   "metadata": {},
   "outputs": [
    {
     "name": "stdout",
     "output_type": "stream",
     "text": [
      "True\n",
      "False\n"
     ]
    }
   ],
   "source": [
    "#membership\n",
    "#in\n",
    "a=\"i like banana\"\n",
    "print(\"like\"in a)\n",
    "#not in\n",
    "print(\"i\"not in a)"
   ]
  },
  {
   "cell_type": "code",
   "execution_count": 10,
   "id": "d3730d50-4eb1-4b98-97d9-00e03bbbd156",
   "metadata": {},
   "outputs": [
    {
     "name": "stdout",
     "output_type": "stream",
     "text": [
      "2\n",
      "7\n"
     ]
    }
   ],
   "source": [
    "#bitwise\n",
    "#and (&)\n",
    "print(6&3)\n",
    "#or (|)\n",
    "print(6|3)\n"
   ]
  },
  {
   "cell_type": "code",
   "execution_count": null,
   "id": "a1e51a41-5cff-45d8-86a0-4296a59416e8",
   "metadata": {},
   "outputs": [],
   "source": []
  }
 ],
 "metadata": {
  "kernelspec": {
   "display_name": "Python 3 (ipykernel)",
   "language": "python",
   "name": "python3"
  },
  "language_info": {
   "codemirror_mode": {
    "name": "ipython",
    "version": 3
   },
   "file_extension": ".py",
   "mimetype": "text/x-python",
   "name": "python",
   "nbconvert_exporter": "python",
   "pygments_lexer": "ipython3",
   "version": "3.13.5"
  }
 },
 "nbformat": 4,
 "nbformat_minor": 5
}
