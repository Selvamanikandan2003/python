{
 "cells": [
  {
   "cell_type": "code",
   "execution_count": 12,
   "id": "db34a880-1ba2-4a3b-8dea-ba54e08da9d3",
   "metadata": {},
   "outputs": [
    {
     "name": "stdout",
     "output_type": "stream",
     "text": [
      "selva \n",
      " 21 \n",
      " rithi \n",
      " madurai \n",
      " RAJA\n"
     ]
    }
   ],
   "source": [
    "#legal variable\n",
    "name=\"selva\"          #variable name start with letters\n",
    "_age=21               #stsrt with underscore in first character\n",
    "student1=\"rithi\"      #we can use numbers after the variable name\n",
    "city_name=\"madurai\"   #use underscore between space\n",
    "NAME=\"RAJA\"           #variable name with upper case\n",
    "print(name,\"\\n\",_age,\"\\n\",student1,\"\\n\",city_name,\"\\n\",NAME)\n"
   ]
  },
  {
   "cell_type": "code",
   "execution_count": 13,
   "id": "1771cb34-2565-45d0-bd7b-507a768388a6",
   "metadata": {},
   "outputs": [
    {
     "ename": "SyntaxError",
     "evalue": "invalid decimal literal (3098042802.py, line 2)",
     "output_type": "error",
     "traceback": [
      "\u001b[1;36m  Cell \u001b[1;32mIn[13], line 2\u001b[1;36m\u001b[0m\n\u001b[1;33m    1name=\"selva\"\u001b[0m\n\u001b[1;37m    ^\u001b[0m\n\u001b[1;31mSyntaxError\u001b[0m\u001b[1;31m:\u001b[0m invalid decimal literal\n"
     ]
    }
   ],
   "source": [
    "#illegal variable\n",
    "1name=\"selva\"         #can not create variable name starting with number\n",
    "student name=\"rithi\"  #can not containe spaces\n",
    "city-name=\"madurai\"   #\n",
    "for=10                #can not take a keyword\n",
    "@age=21               #special charecters\n",
    "print(1name,\"\\n\",student name,\"\\n\",city-name,\"\\n\",for,\"\\n\"@age)"
   ]
  }
 ],
 "metadata": {
  "kernelspec": {
   "display_name": "Python 3 (ipykernel)",
   "language": "python",
   "name": "python3"
  },
  "language_info": {
   "codemirror_mode": {
    "name": "ipython",
    "version": 3
   },
   "file_extension": ".py",
   "mimetype": "text/x-python",
   "name": "python",
   "nbconvert_exporter": "python",
   "pygments_lexer": "ipython3",
   "version": "3.13.5"
  }
 },
 "nbformat": 4,
 "nbformat_minor": 5
}
