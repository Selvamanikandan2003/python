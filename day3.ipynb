{
 "cells": [
  {
   "cell_type": "code",
   "execution_count": 1,
   "id": "2867f5ce-ecca-4bf2-9748-75230576f42e",
   "metadata": {},
   "outputs": [
    {
     "name": "stdout",
     "output_type": "stream",
     "text": [
      "Python\n"
     ]
    }
   ],
   "source": [
    "#capitalize the first letter\n",
    "a=\"python\"\n",
    "print(a.capitalize())"
   ]
  },
  {
   "cell_type": "code",
   "execution_count": 3,
   "id": "295ce622-a916-40ab-bf07-43aa12d48d38",
   "metadata": {},
   "outputs": [
    {
     "name": "stdout",
     "output_type": "stream",
     "text": [
      "selva\n"
     ]
    }
   ],
   "source": [
    "#casefold CONVERT STRING INTO LOWER CASE\n",
    "a=\"SELVA\"\n",
    "print(a.casefold())"
   ]
  },
  {
   "cell_type": "code",
   "execution_count": 5,
   "id": "8bc497bd-ac2f-4f60-8f7a-96826f4f50b6",
   "metadata": {},
   "outputs": [
    {
     "name": "stdout",
     "output_type": "stream",
     "text": [
      "       banana       \n"
     ]
    }
   ],
   "source": [
    "#CENTER GIVING  SPACE \n",
    "a=\"banana\"\n",
    "print(a.center(20))"
   ]
  },
  {
   "cell_type": "code",
   "execution_count": 8,
   "id": "806340d9-3108-4f40-bd46-2d4e4c3e52b6",
   "metadata": {},
   "outputs": [
    {
     "name": "stdout",
     "output_type": "stream",
     "text": [
      "2\n"
     ]
    }
   ],
   "source": [
    "#COUNT THE GIVING LETTER IN STRING \n",
    "a=\"hi how are you\"\n",
    "print(a.count(\"h\"))"
   ]
  },
  {
   "cell_type": "code",
   "execution_count": 9,
   "id": "01484431-98fe-4c58-a41a-433a9ee80b42",
   "metadata": {},
   "outputs": [
    {
     "name": "stdout",
     "output_type": "stream",
     "text": [
      "b'my name is selva'\n"
     ]
    }
   ],
   "source": [
    "#encode\n",
    "a=\"my name is selva\"\n",
    "print(a.encode())"
   ]
  },
  {
   "cell_type": "code",
   "execution_count": 11,
   "id": "c89b8a3f-65f7-49b0-9eb9-28a09e1d25f0",
   "metadata": {},
   "outputs": [
    {
     "name": "stdout",
     "output_type": "stream",
     "text": [
      "True\n",
      "False\n"
     ]
    }
   ],
   "source": [
    "#ENDSWITH IS GIVING IF THE STRING IS END WITH GIVEN LETTER\n",
    "a=\"hellow world\"\n",
    "print(a.endswith(\"ld\"))\n",
    "print(a.endswith(\"or\"))"
   ]
  },
  {
   "cell_type": "code",
   "execution_count": 12,
   "id": "4eab624a-9d70-4911-b7d8-fbfde3fa93cc",
   "metadata": {},
   "outputs": [
    {
     "name": "stdout",
     "output_type": "stream",
     "text": [
      "True\n",
      "False\n"
     ]
    }
   ],
   "source": [
    "#string methods   check string starts with \"py\"\n",
    "a=\"python\"     \n",
    "print(a.startswith(\"py\"))\n",
    "print(a.startswith(\"on\"))\n"
   ]
  },
  {
   "cell_type": "code",
   "execution_count": 19,
   "id": "74dc7eeb-9891-4d6f-9d3b-e591e02ddd2a",
   "metadata": {},
   "outputs": [
    {
     "name": "stdout",
     "output_type": "stream",
     "text": [
      "ilikeapple\n"
     ]
    }
   ],
   "source": [
    "#expandtabs set a tab size to string\n",
    "a=\"ilikeapple\"\n",
    "print(a.expandtabs(40))"
   ]
  },
  {
   "cell_type": "code",
   "execution_count": 6,
   "id": "488532ad-cb6c-4362-9780-9ded4b34f4ba",
   "metadata": {},
   "outputs": [
    {
     "name": "stdin",
     "output_type": "stream",
     "text": [
      "enter the string selva\n"
     ]
    },
    {
     "name": "stdout",
     "output_type": "stream",
     "text": [
      "this is length: 5\n"
     ]
    }
   ],
   "source": [
    "#finding length\n",
    "text=input(\"enter the string\")\n",
    "print(\"this is length:\",len(text))"
   ]
  },
  {
   "cell_type": "code",
   "execution_count": 9,
   "id": "c430296a-7807-4e27-b2d4-4847fe903484",
   "metadata": {},
   "outputs": [
    {
     "name": "stdout",
     "output_type": "stream",
     "text": [
      "python is easy,i love python\n"
     ]
    }
   ],
   "source": [
    "#replace the string\n",
    "a=\"java is easy,i love java\"\n",
    "print(a.replace(\"java\",\"python\"))\n"
   ]
  },
  {
   "cell_type": "code",
   "execution_count": 11,
   "id": "2cd80d8c-c65b-445d-a8bd-f44effe83cfa",
   "metadata": {},
   "outputs": [
    {
     "name": "stdout",
     "output_type": "stream",
     "text": [
      "4\n"
     ]
    }
   ],
   "source": [
    "#string method find\n",
    "text=\"hi welcome every one\"\n",
    "print(text.find(\"e\"))"
   ]
  },
  {
   "cell_type": "code",
   "execution_count": 13,
   "id": "b4b5bd2c-0590-4de7-a0a3-36c293a2f1e5",
   "metadata": {},
   "outputs": [
    {
     "name": "stdout",
     "output_type": "stream",
     "text": [
      "ilovepython\n"
     ]
    }
   ],
   "source": [
    "#join list into string\n",
    "words=(\"i\", \"love\", \"python\")\n",
    "print(\"\".join(words))"
   ]
  },
  {
   "cell_type": "code",
   "execution_count": 19,
   "id": "fc457d11-c392-4c00-b661-6cad6ca94434",
   "metadata": {},
   "outputs": [
    {
     "name": "stdout",
     "output_type": "stream",
     "text": [
      "Hello World\n"
     ]
    }
   ],
   "source": [
    "#strin method title\n",
    "a=\"hello world\"\n",
    "b=a.title()\n",
    "print(b)"
   ]
  }
 ],
 "metadata": {
  "kernelspec": {
   "display_name": "Python 3 (ipykernel)",
   "language": "python",
   "name": "python3"
  },
  "language_info": {
   "codemirror_mode": {
    "name": "ipython",
    "version": 3
   },
   "file_extension": ".py",
   "mimetype": "text/x-python",
   "name": "python",
   "nbconvert_exporter": "python",
   "pygments_lexer": "ipython3",
   "version": "3.13.5"
  }
 },
 "nbformat": 4,
 "nbformat_minor": 5
}
