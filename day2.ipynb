{
 "cells": [
  {
   "cell_type": "code",
   "execution_count": 1,
   "id": "ce6aa05b-3226-4960-8eb3-2217b39ed4ad",
   "metadata": {},
   "outputs": [
    {
     "name": "stdout",
     "output_type": "stream",
     "text": [
      "10\n",
      "10\n",
      "hi\n"
     ]
    }
   ],
   "source": [
    "#multiple variables\n",
    "a=b=c=10\n",
    "print(c)\n",
    "print(a)\n",
    "A=B=C=\"hi\"\n",
    "print(C)"
   ]
  },
  {
   "cell_type": "code",
   "execution_count": 16,
   "id": "da288e23-3bcc-43c0-a6e7-e1a3f165f6c0",
   "metadata": {},
   "outputs": [
    {
     "name": "stdout",
     "output_type": "stream",
     "text": [
      "10 \n",
      " 20 \n",
      " 30\n"
     ]
    },
    {
     "data": {
      "text/plain": [
       "(10, 20, 40)"
      ]
     },
     "execution_count": 16,
     "metadata": {},
     "output_type": "execute_result"
    }
   ],
   "source": [
    "#multiple values\n",
    "a,b,c=10,20,30\n",
    "print(a,\"\\n\",b,\"\\n\",c)\n",
    "d=10,20,40\n",
    "d"
   ]
  },
  {
   "cell_type": "code",
   "execution_count": 23,
   "id": "3636a66b-44aa-48bf-b963-03e86254aa08",
   "metadata": {},
   "outputs": [
    {
     "name": "stdout",
     "output_type": "stream",
     "text": [
      "20\n",
      "30\n",
      "3\n",
      "(21+0j)\n"
     ]
    }
   ],
   "source": [
    "#type convertion\n",
    "#string to int\n",
    "a=\"20\"\n",
    "print(int(a))\n",
    "\n",
    "#float to int\n",
    "b=30.9\n",
    "print(int(b))\n",
    "\n",
    "#int to string\n",
    "c=3\n",
    "print(str(c))\n",
    "\n",
    "#int to complex\n",
    "d=21\n",
    "print(complex(d))\n"
   ]
  },
  {
   "cell_type": "code",
   "execution_count": null,
   "id": "eda0dcfa-fcb8-4fd3-ad1c-d80eb52bb345",
   "metadata": {},
   "outputs": [],
   "source": []
  }
 ],
 "metadata": {
  "kernelspec": {
   "display_name": "Python 3 (ipykernel)",
   "language": "python",
   "name": "python3"
  },
  "language_info": {
   "codemirror_mode": {
    "name": "ipython",
    "version": 3
   },
   "file_extension": ".py",
   "mimetype": "text/x-python",
   "name": "python",
   "nbconvert_exporter": "python",
   "pygments_lexer": "ipython3",
   "version": "3.13.5"
  }
 },
 "nbformat": 4,
 "nbformat_minor": 5
}
