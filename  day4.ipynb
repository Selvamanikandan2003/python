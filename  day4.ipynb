{
 "cells": [
  {
   "cell_type": "code",
   "execution_count": 12,
   "id": "a85a1502-1282-46b4-bbe0-3ff942f36d40",
   "metadata": {},
   "outputs": [
    {
     "name": "stdout",
     "output_type": "stream",
     "text": [
      "addition: 5\n",
      "subtraction: -1\n",
      "multiplication: 6\n",
      "exponentiation: 8\n",
      "division: 0.6666666666666666\n",
      "floar division: 0\n",
      "modulus: 2\n"
     ]
    }
   ],
   "source": [
    "\"\"\"operators\n",
    "arithmetic operators\"\"\"\n",
    "a=2\n",
    "b=3\n",
    "print(\"addition:\",a+b)       #add two operands\n",
    "print (\"subtraction:\",a-b)  #subract the second operand from the first\n",
    "print(\"multiplication:\",a*b) #multipliea two operands\n",
    "print(\"exponentiation:\",a**b) #raises the first operands to the pwoer of the second operand\n",
    "print(\"division:\",a/b)        #divides the firat operand by the second\n",
    "print(\"floar division:\",a//b) #divides the firat operand by the second giving the integer\n",
    "print(\"modulus:\",a%b)          #return the remainder of the division of the first operand by the second\n"
   ]
  },
  {
   "cell_type": "code",
   "execution_count": 21,
   "id": "ccaca1a8-d8ba-4126-9de7-c0843937d7ad",
   "metadata": {},
   "outputs": [
    {
     "name": "stdout",
     "output_type": "stream",
     "text": [
      "10\n",
      "3\n",
      "9\n",
      "1.0\n",
      "1\n"
     ]
    }
   ],
   "source": [
    "#assignment operator\n",
    "      #addition\n",
    "a=5  \n",
    "a+=5\n",
    "print(a)\n",
    "     #subract\n",
    "b=5  \n",
    "b-=2\n",
    "print(b)\n",
    "     #multiplication\n",
    "c=3\n",
    "x=c*3\n",
    "print(x)\n",
    "     #division\n",
    "d=5\n",
    "y=5/d\n",
    "print(y)\n",
    "     #modulus\n",
    "z=5\n",
    "z%=2\n",
    "print(z)\n"
   ]
  },
  {
   "cell_type": "code",
   "execution_count": 32,
   "id": "ee6e1cac-bcf5-423b-ad06-a8c7610d1d94",
   "metadata": {},
   "outputs": [
    {
     "name": "stdout",
     "output_type": "stream",
     "text": [
      "True\n",
      "False\n",
      "True\n",
      "True\n",
      "True\n",
      "True\n"
     ]
    }
   ],
   "source": [
    "#comparision operators\n",
    "         #equals to\n",
    "a=10   \n",
    "b=10\n",
    "print(a==b)\n",
    "         #not equals\n",
    "print(a!=b)\n",
    "         #greter than\n",
    "num1=20\n",
    "num2=10\n",
    "print(num1>num2)\n",
    "         #lesser than\n",
    "num3=20\n",
    "num4=40\n",
    "print(num3<num4)\n",
    "          #greter tha or equals\n",
    "print(num1>=num2)\n",
    "          #lesser than equals\n",
    "print(num3<=num4)\n"
   ]
  },
  {
   "cell_type": "code",
   "execution_count": 36,
   "id": "d0667307-b187-4d63-878c-8ac0ceed5c5a",
   "metadata": {},
   "outputs": [
    {
     "name": "stdout",
     "output_type": "stream",
     "text": [
      "True\n",
      "True\n"
     ]
    }
   ],
   "source": [
    "#logical operators\n",
    "       #and operators\n",
    "x=10\n",
    "y=20\n",
    "print(x<20 and y>10)\n",
    "      #or operators\n",
    "print(x<5 or y>5)\n"
   ]
  },
  {
   "cell_type": "code",
   "execution_count": 6,
   "id": "8dcff01f-2ea4-456f-8fe1-9458db09a615",
   "metadata": {},
   "outputs": [
    {
     "name": "stdout",
     "output_type": "stream",
     "text": [
      "2\n"
     ]
    }
   ],
   "source": [
    "a=6\n",
    "b=3\n",
    "print(a&b)"
   ]
  },
  {
   "cell_type": "code",
   "execution_count": 8,
   "id": "fb2eb6bb-b4c0-40e0-84ae-ea28bb3a6a0c",
   "metadata": {},
   "outputs": [
    {
     "name": "stdout",
     "output_type": "stream",
     "text": [
      "1\n"
     ]
    }
   ],
   "source": [
    "k=\"welcome python\"\n",
    "print(k.count(\"y\"))\n"
   ]
  },
  {
   "cell_type": "code",
   "execution_count": null,
   "id": "392e95f4-9599-436e-8e51-b584cfaa53df",
   "metadata": {},
   "outputs": [],
   "source": []
  }
 ],
 "metadata": {
  "kernelspec": {
   "display_name": "Python 3 (ipykernel)",
   "language": "python",
   "name": "python3"
  },
  "language_info": {
   "codemirror_mode": {
    "name": "ipython",
    "version": 3
   },
   "file_extension": ".py",
   "mimetype": "text/x-python",
   "name": "python",
   "nbconvert_exporter": "python",
   "pygments_lexer": "ipython3",
   "version": "3.13.5"
  }
 },
 "nbformat": 4,
 "nbformat_minor": 5
}
